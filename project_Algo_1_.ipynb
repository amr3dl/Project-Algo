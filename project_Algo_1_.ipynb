{
  "nbformat": 4,
  "nbformat_minor": 0,
  "metadata": {
    "colab": {
      "provenance": []
    },
    "kernelspec": {
      "name": "python3",
      "display_name": "Python 3"
    },
    "language_info": {
      "name": "python"
    }
  },
  "cells": [
    {
      "cell_type": "code",
      "execution_count": 8,
      "metadata": {
        "id": "9eSeYXmLo01L",
        "colab": {
          "base_uri": "https://localhost:8080/"
        },
        "outputId": "644915e5-740b-4547-b2df-591b3a08499a"
      },
      "outputs": [
        {
          "output_type": "stream",
          "name": "stdout",
          "text": [
            "Enter the size of the array: 5\n",
            "Enter the elements of the array:\n",
            "Element 1: 4\n",
            "Element 2: 1\n",
            "Element 3: 3\n",
            "Element 4: 4\n",
            "Element 5: 3\n",
            "\n",
            "Original Array: [4, 1, 3, 4, 3]\n",
            "\n",
            "Step 1: Find Range of Input \n",
            "Maximum Value: 4, Minimum Value: 1, Range: 4\n",
            "\n",
            "Step 2: Initialize Count Array \n",
            "Count Array Initialized: [0, 0, 0, 0]\n",
            "\n",
            "Step 3: Count Occurrences \n",
            "Counting 4: [0, 0, 0, 1]\n",
            "Counting 1: [1, 0, 0, 1]\n",
            "Counting 3: [1, 0, 1, 1]\n",
            "Counting 4: [1, 0, 1, 2]\n",
            "Counting 3: [1, 0, 2, 2]\n",
            "\n",
            "Step 4: Calculate Running Sum \n",
            "Updated Count Array (index 1): [1, 1, 2, 2]\n",
            "Updated Count Array (index 2): [1, 1, 3, 2]\n",
            "Updated Count Array (index 3): [1, 1, 3, 5]\n",
            "\n",
            "Step 5: Place Values in Output Array \n",
            "Placing 3: [0, 0, 3, 0, 0] (Updated Count Array: [1, 1, 2, 5])\n",
            "Placing 4: [0, 0, 3, 0, 4] (Updated Count Array: [1, 1, 2, 4])\n",
            "Placing 3: [0, 3, 3, 0, 4] (Updated Count Array: [1, 1, 1, 4])\n",
            "Placing 1: [1, 3, 3, 0, 4] (Updated Count Array: [0, 1, 1, 4])\n",
            "Placing 4: [1, 3, 3, 4, 4] (Updated Count Array: [0, 1, 1, 3])\n",
            "\n",
            "Step 6: Copy Sorted Array Back to Input \n",
            "Array After Copying: [1, 1, 3, 4, 3]\n",
            "Array After Copying: [1, 3, 3, 4, 3]\n",
            "Array After Copying: [1, 3, 3, 4, 3]\n",
            "Array After Copying: [1, 3, 3, 4, 3]\n",
            "Array After Copying: [1, 3, 3, 4, 4]\n",
            "\n",
            "Final Sorted Array: [1, 3, 3, 4, 4]\n"
          ]
        }
      ],
      "source": [
        "def counting_sort(arr):\n",
        "\n",
        "    print(\"\\nStep 1: Find Range of Input \")\n",
        "    max_val = max(arr)\n",
        "    min_val = min(arr)\n",
        "    range_val = max_val - min_val + 1\n",
        "    print(f\"Maximum Value: {max_val}, Minimum Value: {min_val}, Range: {range_val}\")\n",
        "\n",
        "    print(\"\\nStep 2: Initialize Count Array \")\n",
        "    count = [0] * range_val\n",
        "    print(f\"Count Array Initialized: {count}\")\n",
        "\n",
        "    print(\"\\nStep 3: Count Occurrences \")\n",
        "    for num in arr:\n",
        "        count[num - min_val] += 1\n",
        "        print(f\"Counting {num}: {count}\")\n",
        "\n",
        "    print(\"\\nStep 4: Calculate Running Sum \")\n",
        "    for i in range(1, len(count)):\n",
        "        count[i] += count[i - 1]\n",
        "        print(f\"Updated Count Array (index {i}): {count}\")\n",
        "\n",
        "    print(\"\\nStep 5: Place Values in Output Array \")\n",
        "    output = [0] * len(arr)\n",
        "    for num in reversed(arr):\n",
        "        output[count[num - min_val] - 1] = num\n",
        "        count[num - min_val] -= 1\n",
        "        print(f\"Placing {num}: {output} (Updated Count Array: {count})\")\n",
        "\n",
        "    print(\"\\nStep 6: Copy Sorted Array Back to Input \")\n",
        "    for i in range(len(arr)):\n",
        "        arr[i] = output[i]\n",
        "        print(f\"Array After Copying: {arr}\")\n",
        "\n",
        "\n",
        "try:\n",
        "    size = int(input(\"Enter the size of the array: \"))\n",
        "    if size <= 0:\n",
        "        print(\"The size of the array must be a positive integer.\")\n",
        "    else:\n",
        "        arr = []\n",
        "        print(\"Enter the elements of the array:\")\n",
        "        for i in range(size):\n",
        "            element = int(input(f\"Element {i + 1}: \"))\n",
        "            arr.append(element)\n",
        "\n",
        "        print(\"\\nOriginal Array:\", arr)\n",
        "        counting_sort(arr)\n",
        "        print(\"\\nFinal Sorted Array:\", arr)\n",
        "except ValueError:\n",
        "    print(\"Invalid input! Please enter integers only.\")"
      ]
    },
    {
      "cell_type": "code",
      "source": [],
      "metadata": {
        "id": "b11iAYEIw-Is"
      },
      "execution_count": null,
      "outputs": []
    }
  ]
}