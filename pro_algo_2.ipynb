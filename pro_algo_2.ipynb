{
  "nbformat": 4,
  "nbformat_minor": 0,
  "metadata": {
    "colab": {
      "provenance": []
    },
    "kernelspec": {
      "name": "python3",
      "display_name": "Python 3"
    },
    "language_info": {
      "name": "python"
    }
  },
  "cells": [
    {
      "cell_type": "code",
      "source": [
        "import heapq\n",
        "\n",
        "def prim(graph, start):\n",
        "\n",
        "    mst = []\n",
        "    pq = []\n",
        "    visited = set()\n",
        "    key = {node: float('inf') for node in graph}\n",
        "    parent = {node: None for node in graph}\n",
        "    total_weight = 0\n",
        "\n",
        "    key[start] = 0\n",
        "    heapq.heappush(pq, (0, start))\n",
        "\n",
        "    while pq:\n",
        "        current_weight, current_node = heapq.heappop(pq)\n",
        "\n",
        "        if current_node in visited:\n",
        "            continue\n",
        "\n",
        "        visited.add(current_node)\n",
        "\n",
        "        if parent[current_node] is not None:\n",
        "            mst.append((parent[current_node], current_node, current_weight))\n",
        "            total_weight += current_weight\n",
        "\n",
        "        for neighbor, weight in graph[current_node]:\n",
        "            if neighbor not in visited and weight < key[neighbor]:\n",
        "                key[neighbor] = weight\n",
        "                parent[neighbor] = current_node\n",
        "                heapq.heappush(pq, (weight, neighbor))\n",
        "\n",
        "    return mst, total_weight\n",
        "\n",
        "def get_graph_from_user():\n",
        "    graph = {}\n",
        "    print(\"Enter the number of nodes space and edges:\")\n",
        "    num_nodes, num_edges = map(int, input().split())\n",
        "\n",
        "    print(\"Enter the names of the nodes (like A space B space C):\")\n",
        "    nodes = input().split()\n",
        "\n",
        "    for node in nodes:\n",
        "        graph[node] = []\n",
        "\n",
        "    print(f\"Enter the edges in the format: Node1 Node2 Weight (like A space B space 4):\")\n",
        "    for _ in range(num_edges):\n",
        "        u, v, w = input().split()\n",
        "        w = int(w)\n",
        "        graph[u].append((v, w))\n",
        "        graph[v].append((u, w))\n",
        "\n",
        "    return graph\n",
        "\n",
        "user_graph = get_graph_from_user()\n",
        "\n",
        "print(\"Enter the starting node:\")\n",
        "start_node = input().strip()\n",
        "\n",
        "mst_result, total_weight = prim(user_graph, start_node)\n",
        "\n",
        "print(\"Minimum Spanning Tree (MST):\")\n",
        "for edge in mst_result:\n",
        "    print(f\"{edge[0]} --({edge[2]})--> {edge[1]}\")\n",
        "\n",
        "print(f\"Total weight of the MST: {total_weight}\")\n"
      ],
      "metadata": {
        "colab": {
          "base_uri": "https://localhost:8080/"
        },
        "id": "2RMku6h1cokI",
        "outputId": "32882697-513d-4f69-d172-8abc5e9661be"
      },
      "execution_count": 3,
      "outputs": [
        {
          "output_type": "stream",
          "name": "stdout",
          "text": [
            "Enter the number of nodes space and edges:\n",
            "8 10\n",
            "Enter the names of the nodes (like A space B space C):\n",
            "y i f j h z x r\n",
            "Enter the edges in the format: Node1 Node2 Weight (like A space B space 4):\n",
            "y i 6\n",
            "i f 4\n",
            "j f 9\n",
            "y f 5\n",
            "f z 2\n",
            "h z 15\n",
            "z x 8\n",
            "x r 3\n",
            "r y 14\n",
            "y x 10\n",
            "Enter the starting node:\n",
            "r\n",
            "Minimum Spanning Tree (MST):\n",
            "r --(3)--> x\n",
            "x --(8)--> z\n",
            "z --(2)--> f\n",
            "f --(4)--> i\n",
            "f --(5)--> y\n",
            "f --(9)--> j\n",
            "z --(15)--> h\n",
            "Total weight of the MST: 46\n"
          ]
        }
      ]
    }
  ]
}